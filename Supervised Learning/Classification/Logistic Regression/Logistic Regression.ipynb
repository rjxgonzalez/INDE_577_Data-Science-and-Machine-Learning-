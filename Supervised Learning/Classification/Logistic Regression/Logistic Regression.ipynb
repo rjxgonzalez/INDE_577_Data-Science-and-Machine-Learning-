{
 "cells": [
  {
   "cell_type": "code",
   "execution_count": 2,
   "metadata": {},
   "outputs": [],
   "source": [
    "import matplotlib.pyplot as plt\n",
    "import numpy as np\n",
    "import pandas as pd\n",
    "import seaborn as sns\n",
    "\n",
    "from mlxtend.plotting import plot_decision_regions\n",
    "\n",
    "sns.set_theme()\n",
    "\n",
    "data = pd.read_csv(\"Gender Classification.csv\") # Reading in the Gender Classification dataset as a pandas DataFrame object"
   ]
  },
  {
   "cell_type": "code",
   "execution_count": null,
   "metadata": {},
   "outputs": [],
   "source": [
    "setosa = data[data.species == \"setosa\"]\n",
    "versicolor = data[data.species == \"versicolor\"]\n",
    "virginica = data[data.species == \"virginica\"]\n",
    "\n",
    "fig, (ax1, ax2) = plt.subplots(1, 2, figsize=(15,10))\n",
    "\n",
    "ax1.scatter(setosa.sepal_length, \n",
    "            setosa.sepal_width, \n",
    "            color = \"red\", \n",
    "            label = \"setosa\")\n",
    "ax1.scatter(versicolor.sepal_length, \n",
    "            versicolor.sepal_width, \n",
    "            color = \"magenta\", \n",
    "            label = \"versicolor\")\n",
    "ax1.set_xlabel(\"sepal length [cm]\", fontsize = 15)\n",
    "ax1.set_ylabel(\"sepal width [cm]\", fontsize = 15)\n",
    "ax1.legend(fontsize = 15, loc = \"upper left\")\n",
    "ax1.set_title(\"Linearly Seperable Data\", fontsize = 18)\n",
    "\n",
    "\n",
    "ax2.scatter(versicolor.petal_length, \n",
    "            versicolor.sepal_length, \n",
    "            color = \"magenta\", \n",
    "            label = \"versicolor\")\n",
    "ax2.scatter(virginica.petal_length, \n",
    "            virginica.sepal_length, \n",
    "            color = \"lightseagreen\", \n",
    "            label = \"virginica\")\n",
    "ax2.set_xlabel(\"petal length [cm]\", fontsize = 15)\n",
    "ax2.set_ylabel(\"sepal length [cm]\", fontsize = 15)\n",
    "ax2.legend(fontsize = 15, loc = \"upper left\")\n",
    "ax2.set_title(\"Non-Linearly Seperable Data\", fontsize = 18)\n",
    "plt.show()"
   ]
  }
 ],
 "metadata": {
  "interpreter": {
   "hash": "a063a9175d89378fd7561f6bc423ee307bddeb5f1748e456061b04aaac1df62f"
  },
  "kernelspec": {
   "display_name": "Python 3.9.7 ('base')",
   "language": "python",
   "name": "python3"
  },
  "language_info": {
   "codemirror_mode": {
    "name": "ipython",
    "version": 3
   },
   "file_extension": ".py",
   "mimetype": "text/x-python",
   "name": "python",
   "nbconvert_exporter": "python",
   "pygments_lexer": "ipython3",
   "version": "3.9.7"
  },
  "orig_nbformat": 4
 },
 "nbformat": 4,
 "nbformat_minor": 2
}
